{
 "cells": [
  {
   "cell_type": "code",
   "execution_count": 13,
   "id": "12dcbfbe",
   "metadata": {},
   "outputs": [
    {
     "name": "stdout",
     "output_type": "stream",
     "text": [
      "Enter the smallest value of the range: 1\n",
      "Enter the largest value of the range: 7\n",
      "In the range of [1,7]\n",
      "1 is neither Prime nor Composite\n",
      "2 is a Composite number\n",
      "3 is a Composite number\n",
      "4 is a Composite number\n",
      "5 is a Composite number\n",
      "6 is a Composite number\n",
      "7 is a Composite number\n"
     ]
    }
   ],
   "source": [
    "A=int(input(\"Enter the smallest value of the range: \"))\n",
    "B=int(input(\"Enter the largest value of the range: \"))\n",
    "print(\"In the range of [\"+str(A)+\",\"+str(B)+\"]\")\n",
    "for i in range(A,B+1):\n",
    "        if i<1:\n",
    "            print(\"Invalid input\")\n",
    "            break\n",
    "        num=1\n",
    "        for j in range(2,i//2+1):\n",
    "            if (i%j==0):\n",
    "                num=0\n",
    "                break\n",
    "        if (num>1):\n",
    "            print(i,\"is a Prime number\")\n",
    "        elif i==1:\n",
    "            print(\"1 is neither Prime nor Composite\")\n",
    "        else:\n",
    "            print(i,\"is a Composite number\")"
   ]
  },
  {
   "cell_type": "code",
   "execution_count": null,
   "id": "e9ae0456",
   "metadata": {},
   "outputs": [],
   "source": []
  }
 ],
 "metadata": {
  "kernelspec": {
   "display_name": "Python 3 (ipykernel)",
   "language": "python",
   "name": "python3"
  },
  "language_info": {
   "codemirror_mode": {
    "name": "ipython",
    "version": 3
   },
   "file_extension": ".py",
   "mimetype": "text/x-python",
   "name": "python",
   "nbconvert_exporter": "python",
   "pygments_lexer": "ipython3",
   "version": "3.9.12"
  }
 },
 "nbformat": 4,
 "nbformat_minor": 5
}
